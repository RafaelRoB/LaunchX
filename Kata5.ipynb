{
 "cells": [
  {
   "cell_type": "code",
   "execution_count": 8,
   "metadata": {},
   "outputs": [
    {
     "name": "stdout",
     "output_type": "stream",
     "text": [
      "628949330 km\n",
      "1012195830.53952 millas\n"
     ]
    }
   ],
   "source": [
    "tierra=149597870\n",
    "jupiter=778547200\n",
    "distancia=jupiter-tierra\n",
    "print(str(distancia)+\" km\")\n",
    "distancia_millas=distancia*1.609344\n",
    "print(str(distancia_millas)+\" millas\")"
   ]
  },
  {
   "cell_type": "code",
   "execution_count": 5,
   "metadata": {},
   "outputs": [
    {
     "ename": "ValueError",
     "evalue": "invalid literal for int() with base 10: ''",
     "output_type": "error",
     "traceback": [
      "\u001b[1;31m---------------------------------------------------------------------------\u001b[0m",
      "\u001b[1;31mValueError\u001b[0m                                Traceback (most recent call last)",
      "\u001b[1;32mUntitled-1.ipynb Cell 2'\u001b[0m in \u001b[0;36m<module>\u001b[1;34m\u001b[0m\n\u001b[0;32m      <a href='vscode-notebook-cell:Untitled-1.ipynb?jupyter-notebook#ch0000001untitled?line=2'>3</a>\u001b[0m Planeta2_Nombre\u001b[39m=\u001b[39m\u001b[39minput\u001b[39m(\u001b[39m'\u001b[39m\u001b[39m¿Cual es el nombre de este planeta?\u001b[39m\u001b[39m'\u001b[39m)\n\u001b[0;32m      <a href='vscode-notebook-cell:Untitled-1.ipynb?jupyter-notebook#ch0000001untitled?line=3'>4</a>\u001b[0m Planeta2_Distancia\u001b[39m=\u001b[39m\u001b[39minput\u001b[39m (\u001b[39m'\u001b[39m\u001b[39mIntroduzca la distancia del sol para este planeta, en KM por favor\u001b[39m\u001b[39m'\u001b[39m)\n\u001b[1;32m----> <a href='vscode-notebook-cell:Untitled-1.ipynb?jupyter-notebook#ch0000001untitled?line=4'>5</a>\u001b[0m Planeta1_Distancia\u001b[39m=\u001b[39m\u001b[39mint\u001b[39;49m(Planeta1_Distancia)\n\u001b[0;32m      <a href='vscode-notebook-cell:Untitled-1.ipynb?jupyter-notebook#ch0000001untitled?line=5'>6</a>\u001b[0m Planeta2_Distancia\u001b[39m=\u001b[39m\u001b[39mint\u001b[39m(Planeta2_Distancia)\n\u001b[0;32m      <a href='vscode-notebook-cell:Untitled-1.ipynb?jupyter-notebook#ch0000001untitled?line=6'>7</a>\u001b[0m Distancia_Entre_Planetas\u001b[39m=\u001b[39m\u001b[39mabs\u001b[39m(Planeta1_Distancia\u001b[39m-\u001b[39mPlaneta2_Distancia)\n",
      "\u001b[1;31mValueError\u001b[0m: invalid literal for int() with base 10: ''"
     ]
    }
   ],
   "source": [
    "Planeta1_Nombre=input('¿Cual es el nombre de este planeta?')\n",
    "Planeta1_Distancia=input ('Introduzca la distancia del sol para este planeta, en KM por favor')\n",
    "Planeta2_Nombre=input('¿Cual es el nombre de este planeta?')\n",
    "Planeta2_Distancia=input ('Introduzca la distancia del sol para este planeta, en KM por favor')\n",
    "Planeta1_Distancia=int(Planeta1_Distancia)\n",
    "Planeta2_Distancia=int(Planeta2_Distancia)\n",
    "Distancia_Entre_Planetas=abs(Planeta1_Distancia-Planeta2_Distancia)\n",
    "print(\"La distancia de \"+Planeta1_Nombre+\" al planeta \"+ Planeta2_Nombre+\"es de: \"+str(Distancia_Entre_Planetas)+\" Km\")\n",
    "Distancia_millas=Distancia_Entre_Planetas*1.609344\n",
    "print(\"La distancia de \"+Planeta1_Nombre+\" al planeta \"+ Planeta2_Nombre+\"es de: \"+str(Distancia_millas)+\" Millas\")\n"
   ]
  }
 ],
 "metadata": {
  "interpreter": {
   "hash": "83279be348fbc3cef7a91efdbef64abb407f37f608b486ab0dce87c30a51f952"
  },
  "kernelspec": {
   "display_name": "Python 3.10.2 64-bit",
   "language": "python",
   "name": "python3"
  },
  "language_info": {
   "codemirror_mode": {
    "name": "ipython",
    "version": 3
   },
   "file_extension": ".py",
   "mimetype": "text/x-python",
   "name": "python",
   "nbconvert_exporter": "python",
   "pygments_lexer": "ipython3",
   "version": "3.10.2"
  },
  "orig_nbformat": 4
 },
 "nbformat": 4,
 "nbformat_minor": 2
}
