{
 "cells": [
  {
   "cell_type": "code",
   "execution_count": 22,
   "metadata": {},
   "outputs": [
    {
     "name": "stdout",
     "output_type": "stream",
     "text": [
      "Todos a las naves !!!\n"
     ]
    }
   ],
   "source": [
    "vel=49\n",
    "if vel>25:\n",
    "    print(\"Todos a las naves !!!, asteroide de alta velocidad\")\n",
    "else:\n",
    "    print(\"asteroide de baja velocidad, ten un Gran dia!!!\")"
   ]
  },
  {
   "cell_type": "code",
   "execution_count": 24,
   "metadata": {},
   "outputs": [
    {
     "name": "stdout",
     "output_type": "stream",
     "text": [
      "LOOK UP! ¡Hay una luz magica en el cielo!\n"
     ]
    }
   ],
   "source": [
    "vel=5550000000000000\n",
    "if vel>20:\n",
    "    print('LOOK UP! ¡Hay una luz magica en el cielo!')\n",
    "elif vel ==20:\n",
    "    print(\"Hay una luz magica en el cielo\")\n",
    "else:\n",
    "    print(\"Nada que ver aqui \")"
   ]
  },
  {
   "cell_type": "code",
   "execution_count": 27,
   "metadata": {},
   "outputs": [
    {
     "name": "stdout",
     "output_type": "stream",
     "text": [
      "Look up!! ¡Hay una luz magica en el cielo\n"
     ]
    }
   ],
   "source": [
    "vel_as=28\n",
    "tam_as=4\n",
    "if vel_as>25 and tam_as>25:\n",
    "    print('Alerta, Un asteroide muy peligroso viene hacia la tierra!!!')\n",
    "elif vel_as>=20:\n",
    "    print('Look up!! ¡Hay una luz magica en el cielo')\n",
    "elif tam_as<25:\n",
    "    print('Nada que ver aqui :3')\n",
    "else:\n",
    "    print('Nada que ver aqui :D')"
   ]
  }
 ],
 "metadata": {
  "interpreter": {
   "hash": "83279be348fbc3cef7a91efdbef64abb407f37f608b486ab0dce87c30a51f952"
  },
  "kernelspec": {
   "display_name": "Python 3.10.2 64-bit",
   "language": "python",
   "name": "python3"
  },
  "language_info": {
   "codemirror_mode": {
    "name": "ipython",
    "version": 3
   },
   "file_extension": ".py",
   "mimetype": "text/x-python",
   "name": "python",
   "nbconvert_exporter": "python",
   "pygments_lexer": "ipython3",
   "version": "3.10.2"
  },
  "orig_nbformat": 4
 },
 "nbformat": 4,
 "nbformat_minor": 2
}
